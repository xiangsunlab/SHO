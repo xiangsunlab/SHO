{
 "cells": [
  {
   "cell_type": "code",
   "execution_count": null,
   "metadata": {},
   "outputs": [],
   "source": [
    "import numpy as np\n",
    "import matplotlib.pyplot as plt"
   ]
  },
  {
   "cell_type": "code",
   "execution_count": 2,
   "metadata": {},
   "outputs": [
    {
     "data": {
      "text/plain": [
       "(200, 2)"
      ]
     },
     "execution_count": 2,
     "metadata": {},
     "output_type": "execute_result"
    }
   ],
   "source": [
    "a = np.loadtxt('sampling_test')\n",
    "a.shape"
   ]
  },
  {
   "cell_type": "code",
   "execution_count": 3,
   "metadata": {},
   "outputs": [
    {
     "data": {
      "text/plain": [
       "array([0.69833135, 1.69384605])"
      ]
     },
     "execution_count": 3,
     "metadata": {},
     "output_type": "execute_result"
    }
   ],
   "source": [
    "a[0]"
   ]
  },
  {
   "cell_type": "code",
   "execution_count": 4,
   "metadata": {},
   "outputs": [
    {
     "data": {
      "text/plain": [
       "array([ 0.69833135,  0.76226173, -0.25445842, -1.72130484,  0.6815214 ,\n",
       "        1.13310902, -1.79335395, -1.39690381,  0.11241453,  0.05202761,\n",
       "       -0.00511436,  1.17126734, -1.28198494,  0.46789374,  0.87992998,\n",
       "       -0.13643341, -3.37465026, -0.47196985,  0.35148149, -0.96909145,\n",
       "       -2.36726765, -3.36549502, -2.30336798,  0.94143466, -2.30639636,\n",
       "       -0.59265746, -0.15210052,  0.88401964,  1.03262244,  0.07985058,\n",
       "       -1.25328056, -0.87113471,  0.02828965,  0.51024898, -1.14890934,\n",
       "        1.30501923, -0.95912639,  1.38665417, -3.31291003,  0.33318981,\n",
       "        0.61375384,  3.62174485, -1.21195006, -0.73574549,  0.7436803 ,\n",
       "       -0.9519266 , -1.85160587, -1.07754168,  0.50720961, -1.07422522,\n",
       "       -0.46840095,  0.45670737,  1.74515624, -1.15348026, -1.06563904,\n",
       "       -2.71044619, -0.08049595,  2.28226931, -2.18526826,  2.51089331,\n",
       "        1.98029162,  1.46738524,  1.14543332, -0.84837368,  2.92513846,\n",
       "       -0.72133272,  0.53296634,  3.43287624, -0.42475186, -0.05574644,\n",
       "       -0.92141556,  1.16679871, -0.79062649, -0.61391643,  1.19029658,\n",
       "        2.57446469, -1.57457441,  0.06252105,  1.54034837,  0.01957542,\n",
       "        0.46930054, -0.16342799, -0.74589062, -0.16501346, -0.09946607,\n",
       "       -0.21901531,  1.09220059,  1.08790856,  0.0212028 , -1.34043258,\n",
       "        1.0398407 , -1.05868449,  0.65845001,  1.57152482,  0.24895056,\n",
       "       -1.27759058,  0.04530984,  1.12185341, -0.04508183, -0.43227024])"
      ]
     },
     "execution_count": 4,
     "metadata": {},
     "output_type": "execute_result"
    }
   ],
   "source": [
    "p = np.zeros(100)\n",
    "q = np.zeros(100)\n",
    "for i in range(100):\n",
    "    q[i] = a[i][0]\n",
    "    p[i] = a[i][1]\n",
    "q "
   ]
  },
  {
   "cell_type": "code",
   "execution_count": 5,
   "metadata": {},
   "outputs": [
    {
     "name": "stdout",
     "output_type": "stream",
     "text": [
      "q average =  -0.054146276169596386\n",
      "p average =  2.330689224833552\n",
      "q std =  1.3749680290425492\n",
      "p std =  0.734913307548282\n"
     ]
    }
   ],
   "source": [
    "print('q average = ', np.average(q))\n",
    "print('p average = ', np.average(p))\n",
    "print('q std = ', np.std(q))\n",
    "print('p std = ', np.std(p))"
   ]
  },
  {
   "cell_type": "code",
   "execution_count": 6,
   "metadata": {},
   "outputs": [
    {
     "data": {
      "text/plain": [
       "0.0006892248335517492"
      ]
     },
     "execution_count": 6,
     "metadata": {},
     "output_type": "execute_result"
    }
   ],
   "source": [
    "q1=p-2.33\n",
    "np.average(q1)"
   ]
  },
  {
   "cell_type": "code",
   "execution_count": 7,
   "metadata": {},
   "outputs": [
    {
     "data": {
      "text/plain": [
       "0.7349133075482821"
      ]
     },
     "execution_count": 7,
     "metadata": {},
     "output_type": "execute_result"
    }
   ],
   "source": [
    "np.std(q1)"
   ]
  },
  {
   "cell_type": "code",
   "execution_count": 8,
   "metadata": {},
   "outputs": [
    {
     "data": {
      "text/plain": [
       "1.03932436670325"
      ]
     },
     "execution_count": 8,
     "metadata": {},
     "output_type": "execute_result"
    }
   ],
   "source": [
    "q1=q1/np.sqrt(0.5)\n",
    "q1.std()"
   ]
  },
  {
   "cell_type": "code",
   "execution_count": 9,
   "metadata": {},
   "outputs": [
    {
     "data": {
      "text/plain": [
       "array([-0.89965755,  1.13094657,  0.24403235, -0.19297633, -1.00160151,\n",
       "        0.30646472, -0.17781492, -0.82097107,  1.35753491, -3.27753793,\n",
       "       -0.48613411,  0.57147869, -1.72847009, -0.40320797, -1.56702785,\n",
       "       -0.74794792, -2.21000204, -0.7821703 , -0.07600288,  0.39280426,\n",
       "        1.03113186, -0.84705832, -0.71603242,  0.70138538, -1.80654302,\n",
       "       -0.27983288, -2.3474005 , -0.02208637,  1.09427929,  1.98389644,\n",
       "       -2.0344573 ,  0.88059958,  0.09425927, -0.08700174, -0.43195151,\n",
       "        0.39735044, -0.15723315, -1.0102828 ,  0.81433175,  0.77498654,\n",
       "       -0.91487691, -0.25508165, -0.69824054, -0.21575472, -0.61329234,\n",
       "       -1.05111677,  1.0954345 , -0.13449375, -0.03560208,  0.38540452,\n",
       "        0.03749069,  1.02033149,  1.32061509, -0.38525956,  0.70071666,\n",
       "       -0.74395569,  0.23104869,  1.09957833,  0.33289021,  0.16042645,\n",
       "       -0.21271365, -0.06262251,  1.47384681, -0.5207617 ,  0.76044341,\n",
       "       -0.18657681, -0.30025496,  1.44675053,  0.14620332,  0.51027077,\n",
       "        1.39157804,  0.32808572,  1.15511558, -0.95028339,  1.66876813,\n",
       "        0.17361297,  0.99987328, -0.31818934,  1.4500068 ,  0.10672242,\n",
       "        0.3756522 , -0.77101906, -0.34562578,  1.29698152, -1.38473623,\n",
       "       -2.19678239,  0.07776779,  1.18011084,  0.20034938,  3.29923555,\n",
       "       -0.23762365,  0.31093604,  1.47212897, -1.7076144 , -0.57074141,\n",
       "       -0.59622497,  0.95528473,  0.60800781,  0.45662793, -0.38546134])"
      ]
     },
     "execution_count": 9,
     "metadata": {},
     "output_type": "execute_result"
    }
   ],
   "source": [
    "q1"
   ]
  },
  {
   "cell_type": "code",
   "execution_count": 10,
   "metadata": {},
   "outputs": [],
   "source": [
    "p1=q/np.sqrt(2)"
   ]
  },
  {
   "cell_type": "code",
   "execution_count": 11,
   "metadata": {},
   "outputs": [
    {
     "data": {
      "text/plain": [
       "array([ 0.49379484,  0.53900044, -0.17992927, -1.21714632,  0.4819084 ,\n",
       "        0.80122907, -1.26809274, -0.98776016,  0.07948907,  0.03678908,\n",
       "       -0.0036164 ,  0.82821108, -0.90650024,  0.33085084,  0.62220446,\n",
       "       -0.09647299, -2.38623809, -0.33373308,  0.24853494, -0.68525114,\n",
       "       -1.67391101, -2.37976435, -1.62872712,  0.66569483, -1.63086851,\n",
       "       -0.41907211, -0.10755131,  0.62509628,  0.73017433,  0.05646288,\n",
       "       -0.88620318, -0.61598526,  0.0200038 ,  0.36080051, -0.81240159,\n",
       "        0.92278794, -0.67820477,  0.98051257, -2.34258115,  0.23560077,\n",
       "        0.4339895 ,  2.56096034, -0.85697811, -0.52025063,  0.52586138,\n",
       "       -0.67311375, -1.30928307, -0.76193703,  0.35865135, -0.75959193,\n",
       "       -0.33120949,  0.32294088,  1.23401181, -0.81563371, -0.75352059,\n",
       "       -1.91657488, -0.05691923,  1.61380811, -1.54521801,  1.77546969,\n",
       "        1.40027763,  1.03759806,  0.80994367, -0.59989078,  2.06838524,\n",
       "       -0.51005926,  0.37686411,  2.42741007, -0.30034492, -0.03941869,\n",
       "       -0.65153919,  0.82505128, -0.55905735, -0.43410447,  0.84166678,\n",
       "        1.82042144, -1.11339225,  0.04420906,  1.08919078,  0.01384191,\n",
       "        0.33184559, -0.11556104, -0.52742432, -0.11668214, -0.07033313,\n",
       "       -0.15486721,  0.77230244,  0.76926752,  0.01499264, -0.94782897,\n",
       "        0.73527841, -0.74860299,  0.46559447,  1.11123586,  0.17603463,\n",
       "       -0.90339296,  0.0320389 ,  0.79327016, -0.03187767, -0.30566122])"
      ]
     },
     "execution_count": 11,
     "metadata": {},
     "output_type": "execute_result"
    }
   ],
   "source": [
    "p1"
   ]
  },
  {
   "cell_type": "code",
   "execution_count": 12,
   "metadata": {},
   "outputs": [
    {
     "data": {
      "text/plain": [
       "array([[-0.89965755,  0.49379484],\n",
       "       [ 1.13094657,  0.53900044],\n",
       "       [ 0.24403235, -0.17992927],\n",
       "       [-0.19297633, -1.21714632],\n",
       "       [-1.00160151,  0.4819084 ],\n",
       "       [ 0.30646472,  0.80122907],\n",
       "       [-0.17781492, -1.26809274],\n",
       "       [-0.82097107, -0.98776016],\n",
       "       [ 1.35753491,  0.07948907],\n",
       "       [-3.27753793,  0.03678908],\n",
       "       [-0.48613411, -0.0036164 ],\n",
       "       [ 0.57147869,  0.82821108],\n",
       "       [-1.72847009, -0.90650024],\n",
       "       [-0.40320797,  0.33085084],\n",
       "       [-1.56702785,  0.62220446],\n",
       "       [-0.74794792, -0.09647299],\n",
       "       [-2.21000204, -2.38623809],\n",
       "       [-0.7821703 , -0.33373308],\n",
       "       [-0.07600288,  0.24853494],\n",
       "       [ 0.39280426, -0.68525114],\n",
       "       [ 1.03113186, -1.67391101],\n",
       "       [-0.84705832, -2.37976435],\n",
       "       [-0.71603242, -1.62872712],\n",
       "       [ 0.70138538,  0.66569483],\n",
       "       [-1.80654302, -1.63086851],\n",
       "       [-0.27983288, -0.41907211],\n",
       "       [-2.3474005 , -0.10755131],\n",
       "       [-0.02208637,  0.62509628],\n",
       "       [ 1.09427929,  0.73017433],\n",
       "       [ 1.98389644,  0.05646288],\n",
       "       [-2.0344573 , -0.88620318],\n",
       "       [ 0.88059958, -0.61598526],\n",
       "       [ 0.09425927,  0.0200038 ],\n",
       "       [-0.08700174,  0.36080051],\n",
       "       [-0.43195151, -0.81240159],\n",
       "       [ 0.39735044,  0.92278794],\n",
       "       [-0.15723315, -0.67820477],\n",
       "       [-1.0102828 ,  0.98051257],\n",
       "       [ 0.81433175, -2.34258115],\n",
       "       [ 0.77498654,  0.23560077],\n",
       "       [-0.91487691,  0.4339895 ],\n",
       "       [-0.25508165,  2.56096034],\n",
       "       [-0.69824054, -0.85697811],\n",
       "       [-0.21575472, -0.52025063],\n",
       "       [-0.61329234,  0.52586138],\n",
       "       [-1.05111677, -0.67311375],\n",
       "       [ 1.0954345 , -1.30928307],\n",
       "       [-0.13449375, -0.76193703],\n",
       "       [-0.03560208,  0.35865135],\n",
       "       [ 0.38540452, -0.75959193],\n",
       "       [ 0.03749069, -0.33120949],\n",
       "       [ 1.02033149,  0.32294088],\n",
       "       [ 1.32061509,  1.23401181],\n",
       "       [-0.38525956, -0.81563371],\n",
       "       [ 0.70071666, -0.75352059],\n",
       "       [-0.74395569, -1.91657488],\n",
       "       [ 0.23104869, -0.05691923],\n",
       "       [ 1.09957833,  1.61380811],\n",
       "       [ 0.33289021, -1.54521801],\n",
       "       [ 0.16042645,  1.77546969],\n",
       "       [-0.21271365,  1.40027763],\n",
       "       [-0.06262251,  1.03759806],\n",
       "       [ 1.47384681,  0.80994367],\n",
       "       [-0.5207617 , -0.59989078],\n",
       "       [ 0.76044341,  2.06838524],\n",
       "       [-0.18657681, -0.51005926],\n",
       "       [-0.30025496,  0.37686411],\n",
       "       [ 1.44675053,  2.42741007],\n",
       "       [ 0.14620332, -0.30034492],\n",
       "       [ 0.51027077, -0.03941869],\n",
       "       [ 1.39157804, -0.65153919],\n",
       "       [ 0.32808572,  0.82505128],\n",
       "       [ 1.15511558, -0.55905735],\n",
       "       [-0.95028339, -0.43410447],\n",
       "       [ 1.66876813,  0.84166678],\n",
       "       [ 0.17361297,  1.82042144],\n",
       "       [ 0.99987328, -1.11339225],\n",
       "       [-0.31818934,  0.04420906],\n",
       "       [ 1.4500068 ,  1.08919078],\n",
       "       [ 0.10672242,  0.01384191],\n",
       "       [ 0.3756522 ,  0.33184559],\n",
       "       [-0.77101906, -0.11556104],\n",
       "       [-0.34562578, -0.52742432],\n",
       "       [ 1.29698152, -0.11668214],\n",
       "       [-1.38473623, -0.07033313],\n",
       "       [-2.19678239, -0.15486721],\n",
       "       [ 0.07776779,  0.77230244],\n",
       "       [ 1.18011084,  0.76926752],\n",
       "       [ 0.20034938,  0.01499264],\n",
       "       [ 3.29923555, -0.94782897],\n",
       "       [-0.23762365,  0.73527841],\n",
       "       [ 0.31093604, -0.74860299],\n",
       "       [ 1.47212897,  0.46559447],\n",
       "       [-1.7076144 ,  1.11123586],\n",
       "       [-0.57074141,  0.17603463],\n",
       "       [-0.59622497, -0.90339296],\n",
       "       [ 0.95528473,  0.0320389 ],\n",
       "       [ 0.60800781,  0.79327016],\n",
       "       [ 0.45662793, -0.03187767],\n",
       "       [-0.38546134, -0.30566122],\n",
       "       [ 1.13824892, -1.42424289],\n",
       "       [-0.84061423, -0.16793312],\n",
       "       [ 0.45821468, -1.59926302],\n",
       "       [ 0.94333637,  0.84113974],\n",
       "       [-0.12376121, -1.13706232],\n",
       "       [ 0.74322397,  0.4609648 ],\n",
       "       [ 0.46891463, -0.9303283 ],\n",
       "       [-2.55086687,  1.30648845],\n",
       "       [-1.23099297, -0.69518324],\n",
       "       [-0.65451302,  0.01915227],\n",
       "       [-0.26843959,  1.25045594],\n",
       "       [-1.60914228, -1.12682469],\n",
       "       [ 0.95929704, -0.40858267],\n",
       "       [-1.9521402 ,  0.61198088],\n",
       "       [-1.24005117,  2.1953877 ],\n",
       "       [-1.73040076, -1.05333064],\n",
       "       [-0.77396468, -1.09091433],\n",
       "       [ 0.54503159,  0.06561473],\n",
       "       [-0.13769531, -1.93712087],\n",
       "       [-0.25916525,  1.07546768],\n",
       "       [-0.76376451,  0.01992275],\n",
       "       [-0.88579228, -0.66054466],\n",
       "       [ 0.80296924,  1.03466748],\n",
       "       [-0.48457877,  0.01596982],\n",
       "       [ 1.09140071,  0.84172925],\n",
       "       [-1.48230676,  0.02889511],\n",
       "       [-1.71033685, -0.37960656],\n",
       "       [ 0.05945269, -1.30861488],\n",
       "       [ 0.50495653,  0.18465995],\n",
       "       [ 0.29109084,  0.1988769 ],\n",
       "       [-0.53884325,  0.57955307],\n",
       "       [ 0.04460708,  0.16582678],\n",
       "       [ 1.71314799,  0.88683536],\n",
       "       [-2.24911645, -0.28024191],\n",
       "       [ 1.01846677, -0.48221257],\n",
       "       [-1.01153239, -2.15918642],\n",
       "       [ 0.47868893,  0.31035385],\n",
       "       [ 0.66716015,  0.31833788],\n",
       "       [ 0.4696241 , -1.71352129],\n",
       "       [ 0.59634905,  2.07163303],\n",
       "       [-0.21047943, -0.69339814],\n",
       "       [-1.47779009,  0.49687561],\n",
       "       [-1.66744287, -0.29296402],\n",
       "       [-1.63416817,  0.7628182 ],\n",
       "       [ 1.03354107,  0.70520586],\n",
       "       [-1.69056572,  2.00792006],\n",
       "       [ 2.05085781, -0.07953707],\n",
       "       [-0.74905313,  0.12699712],\n",
       "       [ 0.42609187, -0.20493166],\n",
       "       [ 0.12770197,  0.04858144],\n",
       "       [-0.72638833, -0.84465202],\n",
       "       [-0.23543413,  0.54484523],\n",
       "       [-0.51761555, -0.14062735],\n",
       "       [-0.98095511, -0.02931186],\n",
       "       [ 1.15442561, -2.00378281],\n",
       "       [ 0.36019833,  0.77191136],\n",
       "       [-0.95958857,  0.10212126],\n",
       "       [-0.40449398,  0.58891094],\n",
       "       [-0.39408935,  0.57744503],\n",
       "       [-0.55108794, -1.40006141],\n",
       "       [-0.01522967,  1.36175998],\n",
       "       [ 0.38726925,  0.88744356],\n",
       "       [-0.93165478,  0.13591715],\n",
       "       [-0.02593538, -0.04088707],\n",
       "       [-1.05905469,  1.64631296],\n",
       "       [-1.69009524,  0.2677455 ],\n",
       "       [-1.45307218, -0.58494391],\n",
       "       [-1.40181501,  0.0064944 ],\n",
       "       [ 1.23355899, -0.37170412],\n",
       "       [-0.54814129,  3.02304722],\n",
       "       [ 0.11348052, -1.34532266],\n",
       "       [ 0.4777452 ,  0.44728904],\n",
       "       [ 0.05940379,  0.40513135],\n",
       "       [-0.30952088, -1.39455865],\n",
       "       [ 1.51515022, -0.56216589],\n",
       "       [ 1.49503759,  1.92742499],\n",
       "       [ 1.9394594 , -0.55047745],\n",
       "       [ 0.05357818,  0.70517336],\n",
       "       [ 0.71586056,  2.03620152],\n",
       "       [-0.73282119,  2.47579039],\n",
       "       [-1.34509053, -0.98659142],\n",
       "       [ 1.07301467, -0.90904797],\n",
       "       [ 1.26270566,  1.26774092],\n",
       "       [-0.40788899,  0.97793877],\n",
       "       [ 0.02797092, -1.16868167],\n",
       "       [-1.28456896,  0.1121708 ],\n",
       "       [ 1.00987978, -0.1704182 ],\n",
       "       [-0.96622353, -0.25224774],\n",
       "       [-0.96132839,  0.47454502],\n",
       "       [-0.0403051 , -0.01664288],\n",
       "       [ 0.86736847,  0.25292109],\n",
       "       [-1.44955585, -0.21542138],\n",
       "       [-0.6999997 , -0.26813015],\n",
       "       [ 0.22516754, -0.58277718],\n",
       "       [ 0.54148944,  0.49602193],\n",
       "       [ 1.05907377,  0.88024691],\n",
       "       [-0.05212909, -0.43405695],\n",
       "       [ 0.07580155,  0.69072985],\n",
       "       [-1.97936354, -1.39138643],\n",
       "       [-0.14221476,  1.05348398],\n",
       "       [ 0.        ,  0.        ],\n",
       "       [-1.36213155, -0.88478238],\n",
       "       [-0.02999263,  0.6183901 ],\n",
       "       [-1.15823586, -0.88181519],\n",
       "       [ 1.51347135, -1.13641244],\n",
       "       [-0.87140045,  0.55463271],\n",
       "       [-0.05928269, -1.02453036],\n",
       "       [-0.1202144 ,  1.51494869],\n",
       "       [ 0.93416425,  0.02010852],\n",
       "       [-0.02269527, -0.27726546],\n",
       "       [-0.73991603, -0.81818611],\n",
       "       [ 2.02049209,  0.0752731 ],\n",
       "       [-0.21336157,  2.39345664],\n",
       "       [-0.55090661,  0.93012347],\n",
       "       [-0.79781112,  0.95569717],\n",
       "       [ 0.73592302,  0.24720772],\n",
       "       [-0.28027787, -0.64222956],\n",
       "       [ 1.98070465,  0.7257371 ],\n",
       "       [ 1.23147832,  0.01393097],\n",
       "       [ 1.53959944, -0.91736665],\n",
       "       [-1.57650158, -0.37977323],\n",
       "       [ 0.82107563,  0.31067741],\n",
       "       [-0.78813548,  0.05486067],\n",
       "       [-0.756591  , -0.06220343],\n",
       "       [-0.33541525,  1.69633172],\n",
       "       [ 0.30803103,  1.0514918 ],\n",
       "       [ 0.03920622,  1.33672538],\n",
       "       [ 2.08677048, -0.97882465],\n",
       "       [-2.01166108,  0.45847889],\n",
       "       [-0.91222231,  1.81497423],\n",
       "       [-0.51623219, -0.13105222],\n",
       "       [-0.35253277,  1.28814755],\n",
       "       [ 0.5526127 , -1.16990895],\n",
       "       [ 0.77918749,  1.89235477],\n",
       "       [-0.58004311,  0.37549037],\n",
       "       [-0.57381191,  0.16191249],\n",
       "       [-0.71410869,  0.19579763],\n",
       "       [-1.4843545 ,  1.338277  ],\n",
       "       [-0.987132  ,  0.46813014],\n",
       "       [-0.23217186, -0.1044688 ],\n",
       "       [ 0.55888691, -2.79414975],\n",
       "       [-1.23493884,  1.53374281],\n",
       "       [ 0.40937966, -0.71902142],\n",
       "       [ 0.25860445,  0.28709753],\n",
       "       [ 0.83451545,  1.30737842],\n",
       "       [ 0.90175729, -0.57426484],\n",
       "       [-0.39501796, -0.48595463],\n",
       "       [ 1.0442283 ,  1.97312121],\n",
       "       [-0.97960329, -0.56931868],\n",
       "       [ 0.37600002, -0.32007023],\n",
       "       [ 0.38631553, -0.69269395],\n",
       "       [ 1.05035489,  0.27317308],\n",
       "       [ 1.63151274, -1.36528415],\n",
       "       [-0.30064985, -0.94630707],\n",
       "       [ 0.03477572,  1.29695436],\n",
       "       [ 1.6084527 ,  1.6544927 ],\n",
       "       [ 2.15826728,  0.89320939],\n",
       "       [-0.23533174, -0.21044392],\n",
       "       [ 0.51239742,  2.03381116],\n",
       "       [-0.10861609, -0.14773848],\n",
       "       [-1.24687607, -0.72908071],\n",
       "       [ 0.17347151, -0.85665625],\n",
       "       [-0.7515336 ,  0.83474166],\n",
       "       [ 0.38665849,  0.23648153],\n",
       "       [ 0.38331624,  0.03923022],\n",
       "       [ 0.92944564, -1.10301395],\n",
       "       [-0.3087224 , -2.0841209 ],\n",
       "       [-0.80665612,  0.65081089],\n",
       "       [ 1.73704228, -0.05859166],\n",
       "       [ 0.16434737,  1.50543012],\n",
       "       [-1.34073033,  0.68502803],\n",
       "       [ 0.54951958,  0.76808068],\n",
       "       [-0.14603261,  0.52174749],\n",
       "       [-0.69113339,  0.19530699],\n",
       "       [ 0.13094114,  0.2229397 ],\n",
       "       [-1.13119888, -0.37842359],\n",
       "       [-0.31792293,  1.13450943],\n",
       "       [-0.53835869,  1.66620913],\n",
       "       [ 0.70691324, -2.53622133],\n",
       "       [ 0.92651554,  0.20753199],\n",
       "       [-1.3178046 , -0.47174763],\n",
       "       [-0.04711631,  0.1866529 ],\n",
       "       [ 0.60744707, -0.51953234],\n",
       "       [ 1.30131325, -0.62859715],\n",
       "       [-0.46511677,  0.16283738],\n",
       "       [-0.01438709,  1.23915439],\n",
       "       [-0.08214502,  0.54308459],\n",
       "       [-0.26132735,  0.72839125],\n",
       "       [-3.13436114,  0.66091822],\n",
       "       [-1.28888571,  0.18038547],\n",
       "       [ 0.62730741, -1.72271696],\n",
       "       [ 1.65403725, -0.4039468 ],\n",
       "       [-0.00391272,  0.43666426],\n",
       "       [ 0.71212873, -1.13845657],\n",
       "       [ 0.07521319,  0.16008254],\n",
       "       [ 1.32715061, -0.06085224],\n",
       "       [ 0.55815395, -0.08393984],\n",
       "       [ 1.38160222,  2.09086825],\n",
       "       [ 0.82600718,  0.67348588],\n",
       "       [ 0.4325072 ,  0.63503074],\n",
       "       [-0.71401374, -1.09153074],\n",
       "       [ 0.85006023,  1.44785669],\n",
       "       [ 1.33901051,  0.42511116],\n",
       "       [ 0.30969866,  0.5713636 ],\n",
       "       [-0.42644448,  0.16068463],\n",
       "       [ 0.18440865, -0.10428992],\n",
       "       [-0.40427258,  0.96778207],\n",
       "       [-0.60915389, -0.47049554],\n",
       "       [-0.5862347 , -0.4429438 ],\n",
       "       [-0.48551454, -0.92786753],\n",
       "       [ 0.50247489,  0.35607353],\n",
       "       [-0.03533501, -0.19213661],\n",
       "       [-0.70328582,  2.05703693],\n",
       "       [-0.74580847, -0.44755919],\n",
       "       [-0.54181981,  0.41336422],\n",
       "       [-0.1067464 , -0.28596592],\n",
       "       [ 0.69415521,  0.88034518],\n",
       "       [ 1.2706372 , -0.07582327],\n",
       "       [-1.97283632, -1.93130462],\n",
       "       [-2.55727673, -0.02039603],\n",
       "       [-0.93507049,  0.29290903],\n",
       "       [ 0.04885414,  1.29413721],\n",
       "       [-1.62425291, -0.67083916],\n",
       "       [-1.02295254, -0.96104988],\n",
       "       [ 0.08899284, -1.50787568],\n",
       "       [-0.47171614, -0.90414618],\n",
       "       [ 0.76554066,  1.93322918],\n",
       "       [ 0.79627388,  1.21684412],\n",
       "       [-0.32115382,  1.38809066],\n",
       "       [-1.26211295,  0.98748536],\n",
       "       [-1.81874009, -0.80700492],\n",
       "       [-0.34158492, -1.35477784],\n",
       "       [-0.02581111, -0.11954058],\n",
       "       [ 0.22419947, -0.71230031],\n",
       "       [-0.89820151, -0.25518347],\n",
       "       [-0.23128529,  1.91003944],\n",
       "       [ 0.51726647,  1.05166022],\n",
       "       [-0.50818707,  1.2150143 ],\n",
       "       [-0.18165111,  1.23290121],\n",
       "       [ 0.79356615,  1.62796817],\n",
       "       [ 0.91599223,  0.53000513],\n",
       "       [-0.95205429,  0.53261669],\n",
       "       [-0.03563373, -0.35473889],\n",
       "       [-1.75017978, -1.09841201],\n",
       "       [-0.86712303, -0.43977738],\n",
       "       [ 0.66743215,  0.28245987],\n",
       "       [-1.19177789,  0.36825923],\n",
       "       [-1.18253036,  0.82141749],\n",
       "       [ 0.48901973, -0.71673384],\n",
       "       [ 0.0485215 , -0.61287164],\n",
       "       [-0.61681962,  0.91291829],\n",
       "       [ 0.06467896,  1.73396118],\n",
       "       [ 0.79201324,  0.52506919],\n",
       "       [-2.74980741, -1.39390492],\n",
       "       [ 0.1317171 , -1.30504495],\n",
       "       [ 1.86413417, -0.46437894],\n",
       "       [-0.66286464,  1.45022114],\n",
       "       [-0.54538662, -0.09853863],\n",
       "       [-0.45499764,  1.44854825],\n",
       "       [-0.48359764,  0.82871139],\n",
       "       [-0.82533877, -1.74138569],\n",
       "       [ 0.133145  ,  2.3234773 ],\n",
       "       [-0.2352164 ,  1.63385448],\n",
       "       [ 0.47118062, -0.38956374],\n",
       "       [-1.31888458, -0.74364359],\n",
       "       [-0.68578661,  0.19818703],\n",
       "       [-0.516981  ,  0.06737087],\n",
       "       [-0.11005815,  0.84402872],\n",
       "       [ 0.49887973,  0.24313656],\n",
       "       [ 0.22553915, -1.50092595],\n",
       "       [ 0.12714336,  1.66161813],\n",
       "       [ 1.99280494,  0.16994819],\n",
       "       [-1.73690989, -0.83298745],\n",
       "       [ 0.48664868,  0.29550628],\n",
       "       [-1.79190142,  0.29508468],\n",
       "       [-0.00778357,  1.43465965],\n",
       "       [ 0.06025906, -0.7437015 ],\n",
       "       [ 0.74563486,  0.19244314],\n",
       "       [ 0.92728643, -0.19660823],\n",
       "       [ 0.59582044, -0.17933518],\n",
       "       [-0.70843404,  0.70959098],\n",
       "       [ 1.10998018, -1.18599173],\n",
       "       [ 1.07484652,  0.94969087],\n",
       "       [ 0.23590895, -0.40192942],\n",
       "       [ 0.40915693,  1.59195511],\n",
       "       [ 0.6262299 , -0.43712075],\n",
       "       [-0.20929803, -1.56961231],\n",
       "       [-0.0771922 , -1.38938281],\n",
       "       [ 1.13278913, -0.7086232 ],\n",
       "       [-1.65105129,  1.32430792],\n",
       "       [-1.14997788, -0.09885972],\n",
       "       [-0.5786403 ,  0.59859412],\n",
       "       [-1.45529718,  1.77740031],\n",
       "       [-0.0944592 ,  1.42314492],\n",
       "       [ 0.23326805,  0.52507481],\n",
       "       [-0.26159389,  0.71426662],\n",
       "       [-1.27363564,  2.43380914],\n",
       "       [ 1.47659401, -0.66066637],\n",
       "       [ 2.20804499,  1.29638559],\n",
       "       [ 1.29133265,  0.01519029],\n",
       "       [ 0.07835643, -0.65369192],\n",
       "       [-0.02469195,  2.61106234]])"
      ]
     },
     "execution_count": 12,
     "metadata": {},
     "output_type": "execute_result"
    }
   ],
   "source": [
    "random = np.loadtxt('normal_dist_list')\n",
    "random"
   ]
  },
  {
   "cell_type": "code",
   "execution_count": 13,
   "metadata": {},
   "outputs": [
    {
     "data": {
      "text/plain": [
       "array([-0.89965755,  0.49379484])"
      ]
     },
     "execution_count": 13,
     "metadata": {},
     "output_type": "execute_result"
    }
   ],
   "source": [
    "random[0]"
   ]
  },
  {
   "cell_type": "code",
   "execution_count": 14,
   "metadata": {},
   "outputs": [
    {
     "data": {
      "text/plain": [
       "-0.8996575458462204"
      ]
     },
     "execution_count": 14,
     "metadata": {},
     "output_type": "execute_result"
    }
   ],
   "source": [
    "random[0][0]"
   ]
  },
  {
   "cell_type": "code",
   "execution_count": 15,
   "metadata": {},
   "outputs": [
    {
     "data": {
      "text/plain": [
       "5.551115123125783e-16"
      ]
     },
     "execution_count": 15,
     "metadata": {},
     "output_type": "execute_result"
    }
   ],
   "source": [
    "random[0][0] - q1[0]"
   ]
  },
  {
   "cell_type": "code",
   "execution_count": 16,
   "metadata": {},
   "outputs": [
    {
     "data": {
      "text/plain": [
       "0.0"
      ]
     },
     "execution_count": 16,
     "metadata": {},
     "output_type": "execute_result"
    }
   ],
   "source": [
    "random[1][0] - q1[1]"
   ]
  },
  {
   "cell_type": "code",
   "execution_count": 20,
   "metadata": {},
   "outputs": [
    {
     "name": "stdout",
     "output_type": "stream",
     "text": [
      "4.562669686514198e-14 1.1420118323224315e-14\n"
     ]
    }
   ],
   "source": [
    "a,b=0,0\n",
    "for i in range(100):\n",
    "    a += abs(random[i][0]-q1[i])\n",
    "    b += abs(random[i][1]-p1[i])\n",
    "    \n",
    "print(a,b)"
   ]
  },
  {
   "cell_type": "code",
   "execution_count": 24,
   "metadata": {},
   "outputs": [
    {
     "data": {
      "text/plain": [
       "(-0.8996575458462209, 1.130946574028563)"
      ]
     },
     "execution_count": 24,
     "metadata": {},
     "output_type": "execute_result"
    }
   ],
   "source": [
    "q1[0],q1[1]"
   ]
  },
  {
   "cell_type": "code",
   "execution_count": 23,
   "metadata": {},
   "outputs": [
    {
     "data": {
      "text/plain": [
       "(0.4937948351633039, 0.5390004405894083)"
      ]
     },
     "execution_count": 23,
     "metadata": {},
     "output_type": "execute_result"
    }
   ],
   "source": [
    "p1[0],p1[1]"
   ]
  },
  {
   "cell_type": "code",
   "execution_count": 26,
   "metadata": {},
   "outputs": [
    {
     "data": {
      "text/plain": [
       "(array([ 1.,  0.,  1.,  3.,  3.,  2.,  3., 11., 11., 16., 14.,  8.,  7.,\n",
       "        11.,  6.,  1.,  1.,  0.,  0.,  1.]),\n",
       " array([0.0124307 , 0.24495476, 0.47747882, 0.71000287, 0.94252693,\n",
       "        1.17505098, 1.40757504, 1.6400991 , 1.87262315, 2.10514721,\n",
       "        2.33767127, 2.57019532, 2.80271938, 3.03524343, 3.26776749,\n",
       "        3.50029155, 3.7328156 , 3.96533966, 4.19786372, 4.43038777,\n",
       "        4.66291183]),\n",
       " <a list of 20 Patch objects>)"
      ]
     },
     "execution_count": 26,
     "metadata": {},
     "output_type": "execute_result"
    },
    {
     "data": {
      "image/png": "[encoded data removed]",
      "text/plain": [
       "<Figure size 432x288 with 1 Axes>"
      ]
     },
     "metadata": {
      "needs_background": "light"
     },
     "output_type": "display_data"
    }
   ],
   "source": [
    "plt.hist(p,label='positional distribution',bins = 20)"
   ]
  },
  {
   "cell_type": "code",
   "execution_count": 27,
   "metadata": {},
   "outputs": [
    {
     "data": {
      "text/plain": [
       "(array([ 3.,  1.,  1.,  3.,  3.,  5., 11.,  9.,  5., 18.,  6.,  9., 12.,\n",
       "         4.,  3.,  1.,  2.,  1.,  1.,  2.]),\n",
       " array([-3.37465026, -3.02483051, -2.67501075, -2.325191  , -1.97537124,\n",
       "        -1.62555149, -1.27573173, -0.92591198, -0.57609222, -0.22627247,\n",
       "         0.12354729,  0.47336705,  0.8231868 ,  1.17300656,  1.52282631,\n",
       "         1.87264607,  2.22246582,  2.57228558,  2.92210533,  3.27192509,\n",
       "         3.62174485]),\n",
       " <a list of 20 Patch objects>)"
      ]
     },
     "execution_count": 27,
     "metadata": {},
     "output_type": "execute_result"
    },
    {
     "data": {
      "image/png": "[encoded data removed]",
      "text/plain": [
       "<Figure size 432x288 with 1 Axes>"
      ]
     },
     "metadata": {
      "needs_background": "light"
     },
     "output_type": "display_data"
    }
   ],
   "source": [
    "plt.hist(q,label='momenta distribution',bins = 20)"
   ]
  },
  {
   "cell_type": "code",
   "execution_count": 32,
   "metadata": {},
   "outputs": [],
   "source": [
    "data = np.loadtxt('phase_dis')"
   ]
  },
  {
   "cell_type": "code",
   "execution_count": 33,
   "metadata": {},
   "outputs": [
    {
     "data": {
      "text/plain": [
       "array([[1.69736951, 0.7110192 ],\n",
       "       [1.70095624, 0.72363594],\n",
       "       [1.70460587, 0.73618032],\n",
       "       ...,\n",
       "       [2.37475427, 1.44857931],\n",
       "       [2.38199493, 1.44761182],\n",
       "       [2.38923039, 1.44649957]])"
      ]
     },
     "execution_count": 33,
     "metadata": {},
     "output_type": "execute_result"
    }
   ],
   "source": [
    "data"
   ]
  },
  {
   "cell_type": "code",
   "execution_count": 39,
   "metadata": {},
   "outputs": [
    {
     "data": {
      "text/plain": [
       "[<matplotlib.lines.Line2D at 0x7f34bb3097f0>]"
      ]
     },
     "execution_count": 39,
     "metadata": {},
     "output_type": "execute_result"
    },
    {
     "data": {
      "image/png": "[encoded data removed]",
      "text/plain": [
       "<Figure size 432x288 with 1 Axes>"
      ]
     },
     "metadata": {
      "needs_background": "light"
     },
     "output_type": "display_data"
    }
   ],
   "source": [
    "plt.plot(data[:,0],data[:,1],label = )\n",
    "plt.plot(data[:,0],np.zeros(len(data)))\n",
    "plt.plot(np.zeros(len(data))+2.33,data[:,1])\n"
   ]
  },
  {
   "cell_type": "code",
   "execution_count": 54,
   "metadata": {},
   "outputs": [
    {
     "data": {
      "text/plain": [
       "array([[0.52660841, 0.40022133, 0.12638707],\n",
       "       [0.52660829, 0.39569605, 0.13091224],\n",
       "       [0.52660818, 0.39111781, 0.13549037],\n",
       "       ...,\n",
       "       [0.52661061, 0.48819333, 0.03841728],\n",
       "       [0.52661054, 0.48540951, 0.04120103],\n",
       "       [0.52661047, 0.48253684, 0.04407362]])"
      ]
     },
     "execution_count": 54,
     "metadata": {},
     "output_type": "execute_result"
    }
   ],
   "source": [
    "energy = np.loadtxt('energy')\n",
    "energy"
   ]
  },
  {
   "cell_type": "code",
   "execution_count": 55,
   "metadata": {},
   "outputs": [
    {
     "data": {
      "text/plain": [
       "dtype('float64')"
      ]
     },
     "execution_count": 55,
     "metadata": {},
     "output_type": "execute_result"
    }
   ],
   "source": [
    "energy = np.array(energy)\n",
    "energy.dtype"
   ]
  },
  {
   "cell_type": "code",
   "execution_count": 56,
   "metadata": {},
   "outputs": [
    {
     "data": {
      "text/plain": [
       "300000"
      ]
     },
     "execution_count": 56,
     "metadata": {},
     "output_type": "execute_result"
    }
   ],
   "source": [
    "len(energy)"
   ]
  },
  {
   "cell_type": "code",
   "execution_count": 58,
   "metadata": {},
   "outputs": [
    {
     "data": {
      "text/plain": [
       "[<matplotlib.lines.Line2D at 0x7f34bc908240>]"
      ]
     },
     "execution_count": 58,
     "metadata": {},
     "output_type": "execute_result"
    },
    {
     "data": {
      "image/png": "[encoded data removed]",
      "text/plain": [
       "<Figure size 432x288 with 1 Axes>"
      ]
     },
     "metadata": {
      "needs_background": "light"
     },
     "output_type": "display_data"
    }
   ],
   "source": [
    "plt.plot(np.arange(0,900,1),energy[0:900,0])\n",
    "plt.plot(np.arange(0,900,1),energy[0:900,1])\n",
    "plt.plot(np.arange(0,900,1),energy[0:900,2])"
   ]
  },
  {
   "cell_type": "code",
   "execution_count": null,
   "metadata": {},
   "outputs": [],
   "source": []
  }
 ],
 "metadata": {
  "kernelspec": {
   "display_name": "Python 3",
   "language": "python",
   "name": "python3"
  },
  "language_info": {
   "codemirror_mode": {
    "name": "ipython",
    "version": 3
   },
   "file_extension": ".py",
   "mimetype": "text/x-python",
   "name": "python",
   "nbconvert_exporter": "python",
   "pygments_lexer": "ipython3",
   "version": "3.6.8"
  }
 },
 "nbformat": 4,
 "nbformat_minor": 4
}
