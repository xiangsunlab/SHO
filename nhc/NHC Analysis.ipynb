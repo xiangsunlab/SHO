{
 "cells": [
  {
   "cell_type": "code",
   "execution_count": 1,
   "metadata": {},
   "outputs": [],
   "source": [
    "import numpy as np\n",
    "import matplotlib.pyplot as plt"
   ]
  },
  {
   "cell_type": "markdown",
   "metadata": {},
   "source": [
    "#$\\omega_{Suzuki Yolanda}[0] =  \\omega_{Suzuki Yolanda}[2] =  \\frac{1}{2-2^{\\frac{1}{3}}}$"
   ]
  },
  {
   "cell_type": "code",
   "execution_count": 2,
   "metadata": {},
   "outputs": [
    {
     "name": "stdout",
     "output_type": "stream",
     "text": [
      "1.3512071919596578 -1.7024143839193155 1.3512071919596578\n"
     ]
    }
   ],
   "source": [
    "wsy0= 1.0/(2-2**(1/3))\n",
    "wsy2=wsy0\n",
    "wsy1=1-wsy0-wsy2\n",
    "print(wsy0,wsy1,wsy2)"
   ]
  },
  {
   "cell_type": "code",
   "execution_count": 8,
   "metadata": {},
   "outputs": [
    {
     "name": "stdout",
     "output_type": "stream",
     "text": [
      "calculated HERE\n",
      "wsy[0] = 1.351207191959658\n",
      "tsy[0] = 0.001351207191959658\n",
      "wsy[1] = -1.702414383919316\n",
      "tsy[1] = -0.001702414383919315\n",
      "wsy[2] = 1.351207191959658\n",
      "tsy[2] = 0.001351207191959658\n",
      "init done! HOUA\n",
      "init force updated!\n",
      "\n"
     ]
    },
    {
     "data": {
      "text/plain": [
       "<function TextIOWrapper.close()>"
      ]
     },
     "execution_count": 8,
     "metadata": {},
     "output_type": "execute_result"
    }
   ],
   "source": [
    "sycheck = open('sycheck')\n",
    "lines = sycheck.read()\n",
    "print(lines)\n",
    "sycheck.close"
   ]
  },
  {
   "cell_type": "code",
   "execution_count": 9,
   "metadata": {},
   "outputs": [
    {
     "data": {
      "text/plain": [
       "(0.001351207191959658, -0.0017024143839193154, 0.001351207191959658)"
      ]
     },
     "execution_count": 9,
     "metadata": {},
     "output_type": "execute_result"
    }
   ],
   "source": [
    "dt = 0.01\n",
    "nres = 5\n",
    "tsy0 = wsy0 * dt/2 /nres\n",
    "tsy1 = wsy1 * dt/2 /nres\n",
    "tsy2 = wsy2 * dt/2 /nres\n",
    "tsy0,tsy1,tsy2"
   ]
  },
  {
   "cell_type": "code",
   "execution_count": null,
   "metadata": {},
   "outputs": [],
   "source": []
  }
 ],
 "metadata": {
  "kernelspec": {
   "display_name": "Python 3",
   "language": "python",
   "name": "python3"
  },
  "language_info": {
   "codemirror_mode": {
    "name": "ipython",
    "version": 3
   },
   "file_extension": ".py",
   "mimetype": "text/x-python",
   "name": "python",
   "nbconvert_exporter": "python",
   "pygments_lexer": "ipython3",
   "version": "3.6.8"
  }
 },
 "nbformat": 4,
 "nbformat_minor": 4
}
